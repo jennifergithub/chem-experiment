{
 "cells": [
  {
   "cell_type": "code",
   "execution_count": 1,
   "metadata": {},
   "outputs": [
    {
     "name": "stdout",
     "output_type": "stream",
     "text": [
      "8\n"
     ]
    }
   ],
   "source": [
    "from rdkit import Chem\n",
    "suppl = Chem.SDMolSupplier('pKaInWater.sdf')\n",
    "for mol in suppl:\n",
    "    print(mol.GetNumAtoms())\n",
    "    break"
   ]
  },
  {
   "cell_type": "code",
   "execution_count": 15,
   "metadata": {},
   "outputs": [
    {
     "data": {
      "image/png": "[encoded data removed]",
      "text/plain": [
       "<rdkit.Chem.rdchem.Mol at 0x7f2b4e18c0b0>"
      ]
     },
     "execution_count": 15,
     "metadata": {},
     "output_type": "execute_result"
    }
   ],
   "source": [
    "from rdkit.Chem import Draw\n",
    "glycine = Chem.MolFromSmiles('C(C(=O)O)N')\n",
    "glycine"
   ]
  },
  {
   "cell_type": "markdown",
   "metadata": {},
   "source": [
    "Generated 7911 images from the pKa dataset, note that len(df['pKa']) == 7911 so they should all line up."
   ]
  },
  {
   "cell_type": "code",
   "execution_count": 25,
   "metadata": {},
   "outputs": [
    {
     "name": "stderr",
     "output_type": "stream",
     "text": [
      "[16:50:37] \n",
      "\n",
      "****\n",
      "Post-condition Violation\n",
      "Element '?' not found\n",
      "Violation occurred on line 93 in file /home/conda/feedstock_root/build_artifacts/rdkit_1674051374769/work/Code/GraphMol/PeriodicTable.h\n",
      "Failed Expression: anum > -1\n",
      "****\n",
      "\n",
      "[16:50:37] Unexpected error hit on line 349834\n",
      "[16:50:37] ERROR: moving to the beginning of the next molecule\n",
      "[16:50:37] Explicit valence for atom # 20 O, 3, is greater than permitted\n",
      "[16:50:37] ERROR: Could not sanitize molecule ending on line 405726\n",
      "[16:50:37] ERROR: Explicit valence for atom # 20 O, 3, is greater than permitted\n"
     ]
    },
    {
     "name": "stdout",
     "output_type": "stream",
     "text": [
      "Completed!\n"
     ]
    }
   ],
   "source": [
    "from rdkit.Chem.PandasTools import LoadSDF\n",
    "from rdkit.Chem import Draw\n",
    "from PIL import Image\n",
    "\n",
    "df = LoadSDF('pKaInWater.sdf', smilesName='SMILES')\n",
    "smiles_list = list(df['SMILES']) # get all the SMILES\n",
    "i = 1\n",
    "for smiles in smiles_list:\n",
    "    mol = Chem.MolFromSmiles(smiles)\n",
    "    if mol is None:\n",
    "        print(\"Unable to read original SMILES\" + str(i))\n",
    "    Draw.MolToFile(mol, filename = f'./pka_imgs/{i}.png', imageType='png')\n",
    "    i += 1\n",
    "print(\"Completed!\")"
   ]
  },
  {
   "cell_type": "code",
   "execution_count": 44,
   "metadata": {},
   "outputs": [
    {
     "name": "stdout",
     "output_type": "stream",
     "text": [
      "7911\n",
      "8.29\n"
     ]
    }
   ],
   "source": [
    "list_pkas = list(df['pKa'])\n",
    "print(len(list_pkas))\n",
    "print(list_pkas[388])"
   ]
  },
  {
   "cell_type": "code",
   "execution_count": 43,
   "metadata": {},
   "outputs": [
    {
     "name": "stdout",
     "output_type": "stream",
     "text": [
      "Int64Index([388, 1901, 2313, 3919, 5473, 6618, 6706], dtype='int64')\n"
     ]
    }
   ],
   "source": [
    "row_num = df[df['pKa'] == '8.29'].index\n",
    "print(row_num)"
   ]
  },
  {
   "cell_type": "code",
   "execution_count": 26,
   "metadata": {},
   "outputs": [
    {
     "data": {
      "text/plain": [
       "7911"
      ]
     },
     "execution_count": 26,
     "metadata": {},
     "output_type": "execute_result"
    }
   ],
   "source": [
    "import os, os.path\n",
    "_, _, files = next(os.walk(\"./pka_imgs/\"))\n",
    "file_count = len(files)\n",
    "file_count"
   ]
  }
 ],
 "metadata": {
  "kernelspec": {
   "display_name": "Python 3.11.0 ('my-rdkit-env': conda)",
   "language": "python",
   "name": "python3"
  },
  "language_info": {
   "codemirror_mode": {
    "name": "ipython",
    "version": 3
   },
   "file_extension": ".py",
   "mimetype": "text/x-python",
   "name": "python",
   "nbconvert_exporter": "python",
   "pygments_lexer": "ipython3",
   "version": "3.11.0"
  },
  "orig_nbformat": 4,
  "vscode": {
   "interpreter": {
    "hash": "a8b961a8d04d7b81e183c10cdf1f4a429bb506e7c67f616b1d391e39e45366e4"
   }
  }
 },
 "nbformat": 4,
 "nbformat_minor": 2
}
